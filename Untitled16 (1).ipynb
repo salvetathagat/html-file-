{
 "cells": [
  {
   "cell_type": "code",
   "execution_count": null,
   "id": "f635a065",
   "metadata": {},
   "outputs": [],
   "source": [
    "#Declare two variables \n",
    "x=456\n",
    "y=1056\n"
   ]
  },
  {
   "cell_type": "code",
   "execution_count": null,
   "id": "3294c0ce",
   "metadata": {},
   "outputs": [],
   "source": [
    "x\n"
   ]
  },
  {
   "cell_type": "code",
   "execution_count": null,
   "id": "ac6c79a4",
   "metadata": {},
   "outputs": [],
   "source": [
    "y"
   ]
  },
  {
   "cell_type": "code",
   "execution_count": null,
   "id": "ac10d919",
   "metadata": {},
   "outputs": [],
   "source": [
    "\"\"\"\"\"\"create a progrrame that calculates the area of a rectangle take the length and width as inputs from the users and store them in variables calucalte and display the area\"\"\"\"\"\"\n"
   ]
  },
  {
   "cell_type": "code",
   "execution_count": null,
   "id": "004cb11a",
   "metadata": {},
   "outputs": [],
   "source": [
    "\n",
    "\n",
    "\n"
   ]
  },
  {
   "cell_type": "code",
   "execution_count": 5,
   "id": "db63549e",
   "metadata": {},
   "outputs": [
    {
     "name": "stdout",
     "output_type": "stream",
     "text": [
      "10\n",
      "10\n"
     ]
    },
    {
     "data": {
      "text/plain": [
       "100.0"
      ]
     },
     "execution_count": 5,
     "metadata": {},
     "output_type": "execute_result"
    }
   ],
   "source": [
    "length=float(input())\n",
    "width=float(input())\n",
    "length*width\n",
    "\n"
   ]
  },
  {
   "cell_type": "code",
   "execution_count": null,
   "id": "b1e4989f",
   "metadata": {},
   "outputs": [],
   "source": [
    "#que3\n",
    "\n"
   ]
  },
  {
   "cell_type": "code",
   "execution_count": 9,
   "id": "f4f4d835",
   "metadata": {},
   "outputs": [
    {
     "name": "stdout",
     "output_type": "stream",
     "text": [
      "45\n",
      "113.0\n"
     ]
    }
   ],
   "source": [
    "celcius=float(input())  #enter the tempraature in celcius\n",
    "#covert the celcius in the fahrenheit\n",
    "fahreheit=(celcius*9/5)+32\n",
    "print(fahreheit)"
   ]
  },
  {
   "cell_type": "code",
   "execution_count": null,
   "id": "d7904301",
   "metadata": {},
   "outputs": [],
   "source": [
    "#TTOPIC : STRING BASED QUE"
   ]
  },
  {
   "cell_type": "code",
   "execution_count": 11,
   "id": "61813105",
   "metadata": {},
   "outputs": [],
   "source": [
    "#que 1\n"
   ]
  },
  {
   "cell_type": "code",
   "execution_count": 17,
   "id": "0fa0727d",
   "metadata": {},
   "outputs": [
    {
     "name": "stdout",
     "output_type": "stream",
     "text": [
      "TATHAGAT \n",
      "9\n"
     ]
    }
   ],
   "source": [
    "x1=str(input())\n",
    "a=len(x1)\n",
    "print(a)\n"
   ]
  },
  {
   "cell_type": "code",
   "execution_count": 18,
   "id": "41442ba4",
   "metadata": {},
   "outputs": [
    {
     "data": {
      "text/plain": [
       "str"
      ]
     },
     "execution_count": 18,
     "metadata": {},
     "output_type": "execute_result"
    }
   ],
   "source": [
    "type(x1)"
   ]
  },
  {
   "cell_type": "code",
   "execution_count": null,
   "id": "94c761fc",
   "metadata": {},
   "outputs": [],
   "source": [
    " #Que2\n",
    "sentence=input(\"enter the sentences\")\n",
    "string=sentence.lower()\n",
    "print(string)\n",
    "count=0\n",
    "list1=['a','e','i','o','u']\n",
    "for char in string:\n",
    "    if char in list1:\n",
    "      count= count+1\n",
    "    \n",
    "    print(\"number of vowels in given sentence is:\",count)\n",
    "    "
   ]
  },
  {
   "cell_type": "code",
   "execution_count": 3,
   "id": "d25d4773",
   "metadata": {},
   "outputs": [
    {
     "name": "stdout",
     "output_type": "stream",
     "text": [
      "tagahtaT evlaS si eman yM\n"
     ]
    }
   ],
   "source": [
    "#que.3\n",
    "l1=\"My name is Salve Tathagat\"\n",
    "reversed_string=l1[::-1]\n",
    "print(reversed_string)"
   ]
  },
  {
   "cell_type": "code",
   "execution_count": null,
   "id": "36617052",
   "metadata": {},
   "outputs": [],
   "source": [
    "#que 5"
   ]
  },
  {
   "cell_type": "code",
   "execution_count": null,
   "id": "683aced9",
   "metadata": {},
   "outputs": [],
   "source": [
    "# Input a string from the user\n",
    "input_string = input(\"Enter a string: \")\n",
    "\n",
    "# Remove spaces from the input string\n",
    "modified_string = input_string.replace(\" \", \"\")\n",
    "\n",
    "# Print the modified string without spaces\n",
    "print(\"Modified string without spaces:\", modified_string)\n"
   ]
  }
 ],
 "metadata": {
  "kernelspec": {
   "display_name": "Python 3 (ipykernel)",
   "language": "python",
   "name": "python3"
  },
  "language_info": {
   "codemirror_mode": {
    "name": "ipython",
    "version": 3
   },
   "file_extension": ".py",
   "mimetype": "text/x-python",
   "name": "python",
   "nbconvert_exporter": "python",
   "pygments_lexer": "ipython3",
   "version": "3.9.13"
  }
 },
 "nbformat": 4,
 "nbformat_minor": 5
}
